{
 "cells": [
  {
   "cell_type": "markdown",
   "metadata": {},
   "source": [
    "Neural ODE のデモンストレーション (レーザービーム)"
   ]
  },
  {
   "cell_type": "code",
   "execution_count": 111,
   "metadata": {},
   "outputs": [],
   "source": [
    "import sys\n",
    "import numpy as np\n",
    "import matplotlib.pyplot as plt\n",
    "import tensorflow as tf\n",
    "import time\n",
    "\n",
    "from scipy.integrate import solve_ivp\n",
    "\n",
    "def f(t,z):\n",
    "    \"\"\"\n",
    "     definition of rhs of ode using tensorflow\n",
    "      args z: 4 dim tensor\n",
    "    returns: 4dim tensor\n",
    "    \"\"\"\n",
    "    g = 9.8\n",
    "    return (tf.concat( [z[2:4],[0,-g]],axis=0))\n",
    "\n",
    "\n",
    "\n",
    "def jacobian(t, f, x):\n",
    "    \"\"\" return jacobian matrix of f at x\"\"\"\n",
    "    n = x.shape[-1].value\n",
    "    fx = f(t, x)\n",
    "    if x.shape[-1].value != fx.shape[-1].value:\n",
    "        print('For calculating Jacobian matrix',\n",
    "              'dimensions of f(x) and x must be the same')\n",
    "        return\n",
    "\n",
    "    return tf.concat([tf.gradients(fx[i], x) for i in range(0, n)], 0)\n",
    "\n",
    "def Df(t,f,z):\n",
    "    return jacobian(t,f,z)\n",
    "\n",
    "class F_np:\n",
    "    ''' calc rhs of ode (numpy)'''\n",
    "    def __init__(self,sess,f,z_ph):\n",
    "        self.f_tf=f(0,z_ph)\n",
    "        self.sess=sess\n",
    "        self.z_ph=z_ph\n",
    "        \n",
    "    def __call__(self,t,z):\n",
    "        return( self.sess.run(self.f_tf,\n",
    "                              feed_dict={self.z_ph:z}) )\n",
    "\n",
    "\n",
    "class F_with_adjoint_np:\n",
    "    '''calc ode and adjoint ode (numpy function)'''\n",
    "    def __init__(self,sess,f,z_ph, a_ph):\n",
    "        \"\"\"\n",
    "         args:\n",
    "          sess : session\n",
    "          f: main function of ode\n",
    "          z_ph: placeholder of main variable z\n",
    "          a_ph placeholdero f ajoint variable a\n",
    "        \"\"\"\n",
    "        self.dim = 4\n",
    "        self.fz=f(0,z_ph)\n",
    "        self.Df=Df(0,f,z_ph)\n",
    "        self.sess=sess\n",
    "        self.z_ph=z_ph\n",
    "        self.a_ph=a_ph\n",
    "        self.Df_a=-tf.linalg.matvec(self.Df, self.a_ph, transpose_a=True)\n",
    "        \n",
    "    def __call__(self,t,za):\n",
    "        fzv,dav = self.sess.run([self.fz, self.Df_a], \n",
    "                       feed_dict={self.z_ph:za[0:4], self.a_ph:za[4:8]})\n",
    "        return np.concatenate([fzv,dav])"
   ]
  },
  {
   "cell_type": "code",
   "execution_count": 112,
   "metadata": {},
   "outputs": [],
   "source": [
    "xy_target = (100,0) # target\n",
    "t_end = 3 # duration of integration\n",
    "ts=np.arange(0,t_end+0.1,0.1)\n",
    "dim=4 # dimension of ode\n"
   ]
  },
  {
   "cell_type": "code",
   "execution_count": 113,
   "metadata": {},
   "outputs": [],
   "source": [
    "tf.reset_default_graph()\n",
    "\n",
    "# forward calculation\n",
    "\n",
    "c = tf.Variable([35,np.pi/4], dtype=tf.float64,\n",
    "                    name='c') # set initial speed and angle here (unit  km/h to m/s)\n",
    "z_0 = tf.concat([tf.Variable([0,0,],dtype=tf.float64), [c[0]*tf.cos(c[1])], [c[0]*tf.sin(c[1])]], axis=0)\n",
    "  \n",
    "z_T= tf.placeholder(shape=[dim],dtype=tf.float64)\n",
    "L = tf.reduce_sum(tf.square(z_T[0:2]-xy_target) )\n",
    "\n",
    "# backward calculation\n",
    "\n",
    "dLdz_T = tf.gradients(L, z_T)[0]\n",
    "dLdz_0 = tf.placeholder(shape=[dim],dtype=tf.float64)\n",
    "#Ldummy\n",
    "Ldummy0 = tf.reduce_sum(dLdz_0* z_0)\n",
    "\n",
    "# optimizer and training operator\n",
    "opt = tf.train.GradientDescentOptimizer(1e-5)\n",
    "train_op = opt.minimize(Ldummy0, var_list=[c])\n"
   ]
  },
  {
   "cell_type": "code",
   "execution_count": 114,
   "metadata": {},
   "outputs": [],
   "source": [
    "\n",
    "## tensors etc used in ODE solvers\n",
    "z_ph = tf.placeholder(shape=[dim],dtype=tf.float64)\n",
    "a_ph = tf.placeholder(shape=[dim],dtype=tf.float64)\n",
    "\n",
    "sess = tf.Session()\n",
    "\n",
    "f_np = F_np(sess,f,z_ph)\n",
    "f_with_adj = F_with_adjoint_np(sess,f,z_ph,a_ph)\n",
    "\n",
    "# variables of numpy arrays end with _val\n",
    "za_val =np.zeros(shape=[dim*2],dtype=np.float64)\n",
    "\n",
    "sess.run(tf.initializers.global_variables())\n",
    "\n",
    "# df= Df(0,f,z_ph)\n",
    "# a_ph=a_ph\n",
    "# Df_a=-tf.linalg.matvec(df,a_ph, transpose_a=True)\n",
    "\n",
    "# check\n",
    "# print(sess.run(df, feed_dict={z_ph:[0,0,0,0]}))\n",
    "# print(sess.run(Df_a, feed_dict={z_ph:[0,0,0,0],a_ph:[1,1,1,1]}))"
   ]
  },
  {
   "cell_type": "markdown",
   "metadata": {},
   "source": [
    "# 前向きと後ろ向き計算の定義"
   ]
  },
  {
   "cell_type": "code",
   "execution_count": 115,
   "metadata": {},
   "outputs": [],
   "source": [
    "def forward(ts=None):\n",
    "    z0_val, c_val = sess.run([z_0,c])\n",
    "    sol = solve_ivp(fun=f_np,\n",
    "                    t_span=[0, t_end], y0=z0_val, t_eval=ts) #, \n",
    "    zt_val = sol['y']\n",
    "    z_T_val = sol['y'][:,-1]\n",
    "    L_val = sess.run(L,feed_dict = {z_T:z_T_val})\n",
    "    return L_val, z_T_val, zt_val,\n",
    "\n",
    "def backward(z_T_val):\n",
    "    [dLdz_T_val] = sess.run([dLdz_T],feed_dict={z_T:z_T_val})\n",
    "    za_val[0:dim] = z_T_val[0:dim]\n",
    "    za_val[dim:2*dim] = dLdz_T_val[:]\n",
    "    # backward integration\n",
    "    sol_back = solve_ivp(fun=f_with_adj,\n",
    "                    t_span=[t_end, 0], y0=za_val, t_eval=ts[::-1]) #, \n",
    "\n",
    "    za_0_val = sol_back['y'][:,-1]\n",
    "    dLdz_0_val = za_0_val[dim:2*dim]\n",
    "    #update c\n",
    "    _,c_val = sess.run([train_op,c], feed_dict={dLdz_0:dLdz_0_val})\n",
    "    return c_val, dLdz_T_val, dLdz_0_val, za_0_val"
   ]
  },
  {
   "cell_type": "markdown",
   "metadata": {},
   "source": [
    "# 前向き計算の確認"
   ]
  },
  {
   "cell_type": "markdown",
   "metadata": {},
   "source": [
    "\n"
   ]
  },
  {
   "cell_type": "code",
   "execution_count": 116,
   "metadata": {},
   "outputs": [
    {
     "name": "stdout",
     "output_type": "stream",
     "text": [
      "(v_0, phi(deg)) = (35.0, 45.0\n",
      "z(0)=[ 0.     0.    24.749 24.749]\n",
      "z(T)=[74.246 30.146 24.749 -4.651]\n",
      "L= 1572.0516945138854\n"
     ]
    }
   ],
   "source": [
    "\n",
    "\n",
    "#forward calculation\n",
    "L_val, z_T_val, zt_val = forward(ts=ts)\n",
    "\n",
    "# z_0 and c value\n",
    "z0_val, c_val = sess.run([z_0,c])\n",
    "# change to degree\n",
    "print('(v_0, phi(deg)) = ({:.4}, {:.4}'.format(c_val[0], 360*c_val[1]/(2*np.pi)))\n",
    "np.set_printoptions(3)\n",
    "print('z(0)={}'.format(z0_val))\n",
    "\n",
    "# z(T)\n",
    "print('z(T)={}'.format(z_T_val))\n",
    "\n",
    "print('L= {}'.format(L_val))\n",
    "\n",
    "\n",
    "\n",
    "#sess.close()"
   ]
  },
  {
   "cell_type": "markdown",
   "metadata": {},
   "source": [
    "## 軌道の図示"
   ]
  },
  {
   "cell_type": "code",
   "execution_count": 117,
   "metadata": {},
   "outputs": [
    {
     "data": {
      "text/plain": [
       "Text(0, 0.5, 'y')"
      ]
     },
     "execution_count": 117,
     "metadata": {},
     "output_type": "execute_result"
    },
    {
     "data": {
      "image/png": "[encoded data removed]",
      "text/plain": [
       "<Figure size 432x288 with 1 Axes>"
      ]
     },
     "metadata": {
      "needs_background": "light"
     },
     "output_type": "display_data"
    }
   ],
   "source": [
    "plt.plot(zt_val[0,:],zt_val[1,:])\n",
    "plt.xlabel('x')\n",
    "plt.ylabel('y')"
   ]
  },
  {
   "cell_type": "markdown",
   "metadata": {},
   "source": [
    "# 後ろ向き計算の確認"
   ]
  },
  {
   "cell_type": "code",
   "execution_count": 91,
   "metadata": {},
   "outputs": [
    {
     "name": "stdout",
     "output_type": "stream",
     "text": [
      "dL/dz(T) = [-51.508  60.292   0.      0.   ]\n",
      "dL/dz(0) = [ -51.508   60.292 -154.523  180.877]\n",
      "(v_0, phi(deg)) = (35.0, 40.2)\n"
     ]
    }
   ],
   "source": [
    "#backward calculation\n",
    "c_val, dLdz_T_val, dLdz_0_val, za_0_val = backward(z_T_val)\n",
    "#    [dLdz_T_val] = sess.run([dLdz_T],feed_dict={z_T:z_T_val})\n",
    "\n",
    "print('dL/dz(T) = {}'.format(dLdz_T_val))\n",
    "print('dL/dz(0) = {}'.format(dLdz_0_val))\n",
    "\n",
    "print('(v_0, phi(deg)) = ({:.3}, {:.3})'.format(c_val[0], 360*c_val[1]/(2*np.pi)))\n",
    "\n"
   ]
  },
  {
   "cell_type": "markdown",
   "metadata": {},
   "source": [
    "# メインの学習ループ"
   ]
  },
  {
   "cell_type": "markdown",
   "metadata": {},
   "source": [
    "最初の10回は1回ごとに軌道の保存(図を書くため)"
   ]
  },
  {
   "cell_type": "code",
   "execution_count": 118,
   "metadata": {},
   "outputs": [
    {
     "name": "stdout",
     "output_type": "stream",
     "text": [
      "iteration:0\n",
      "(v_0[m/s], phi[deg]) = (34.99981365, 40.24403416)\n",
      "L= 957.5\n",
      "z(T)=[80.146 23.734 26.715 -6.789]\n",
      "iteration:1\n",
      "(v_0[m/s], phi[deg]) = (34.99980291, 36.52096533)\n",
      "L= 582.0\n",
      "z(T)=[84.382 18.387 28.127 -8.571]\n",
      "iteration:2\n",
      "(v_0[m/s], phi[deg]) = (34.99989946, 33.62470728)\n",
      "L= 355.2\n",
      "z(T)=[ 87.431  14.044  29.144 -10.019]\n",
      "iteration:3\n",
      "(v_0[m/s], phi[deg]) = (35.0000608, 31.38027123)\n",
      "L= 219.1\n",
      "z(T)=[ 89.642  10.575  29.881 -11.175]\n",
      "iteration:4\n",
      "(v_0[m/s], phi[deg]) = (35.00026098, 29.64498839)\n",
      "L= 137.8\n",
      "z(T)=[ 91.257   7.836  30.419 -12.088]\n",
      "iteration:5\n",
      "(v_0[m/s], phi[deg]) = (35.00048435, 28.30522267)\n",
      "L= 89.41\n",
      "z(T)=[ 92.447   5.688  30.816 -12.804]\n",
      "iteration:6\n",
      "(v_0[m/s], phi[deg]) = (35.00072152, 27.27168578)\n",
      "L= 60.59\n",
      "z(T)=[ 93.331   4.013  31.11  -13.362]\n",
      "iteration:7\n",
      "(v_0[m/s], phi[deg]) = (35.00096688, 26.47477937)\n",
      "L= 43.45\n",
      "z(T)=[ 93.991   2.711  31.33  -13.796]\n",
      "iteration:8\n",
      "(v_0[m/s], phi[deg]) = (35.00121708, 25.86050853)\n",
      "L= 33.27\n",
      "z(T)=[ 94.488   1.701  31.496 -14.133]\n",
      "iteration:9\n",
      "(v_0[m/s], phi[deg]) = (35.00147015, 25.38710058)\n",
      "L= 27.22\n",
      "z(T)=[ 94.864   0.919  31.621 -14.394]\n",
      "iteration:10\n",
      "(v_0[m/s], phi[deg]) = (35.0017249, 25.02229195)\n",
      "L= 23.62\n",
      "z(T)=[ 95.15    0.314  31.717 -14.595]\n"
     ]
    }
   ],
   "source": [
    "orbits = []\n",
    "n_itr = []\n",
    "\n",
    "for i in range(11):\n",
    "    L_val,z_T_val, zt_val = forward()\n",
    "    c_val, *other = backward(z_T_val)\n",
    "    \n",
    "    L_val,z_T_val, zt_val = forward(ts=ts)\n",
    "    print('iteration:{}'.format(i))\n",
    "    print('(v_0[m/s], phi[deg]) = ({:.10}, {:.10})'.format(c_val[0], 360*c_val[1]/(2*np.pi)))\n",
    "    print('L= {:.4}'.format(L_val))\n",
    "    print('z(T)={}'.format(z_T_val))\n",
    "        \n",
    "    orbits.append(zt_val)\n",
    "    n_itr.append(i)\n",
    "\n"
   ]
  },
  {
   "cell_type": "markdown",
   "metadata": {},
   "source": [
    "軌道が改良されていくことの確認"
   ]
  },
  {
   "cell_type": "code",
   "execution_count": 119,
   "metadata": {},
   "outputs": [
    {
     "data": {
      "text/plain": [
       "Text(0, 0.5, 'y')"
      ]
     },
     "execution_count": 119,
     "metadata": {},
     "output_type": "execute_result"
    },
    {
     "data": {
      "image/png": "[encoded data removed]",
      "text/plain": [
       "<Figure size 432x288 with 1 Axes>"
      ]
     },
     "metadata": {
      "needs_background": "light"
     },
     "output_type": "display_data"
    }
   ],
   "source": [
    "orbits[0].shape\n",
    "fig=plt.figure()\n",
    "ax=fig.add_subplot(1,1,1)\n",
    "for ( i,orb) in zip(n_itr,orbits):\n",
    "    ax.plot(orb[0],orb[1], label=i)\n",
    "ax.legend(loc = 'upper left')\n",
    "ax.set_xlabel('x')\n",
    "ax.set_ylabel('y')"
   ]
  },
  {
   "cell_type": "markdown",
   "metadata": {},
   "source": [
    "ループの続き"
   ]
  },
  {
   "cell_type": "code",
   "execution_count": 120,
   "metadata": {},
   "outputs": [
    {
     "name": "stdout",
     "output_type": "stream",
     "text": [
      "iteration:1000\n",
      "(v_0[m/s], phi[deg]) = (35.23499705, 23.79747929)\n",
      "L= 12.87\n",
      "z(T)=[ 96.718  -1.448  32.239 -15.183]\n",
      "iteration:2000\n",
      "(v_0[m/s], phi[deg]) = (35.4319929, 23.79747929)\n",
      "L= 8.978\n",
      "z(T)=[ 97.258  -1.209  32.419 -15.103]\n",
      "iteration:3000\n",
      "(v_0[m/s], phi[deg]) = (35.59653499, 23.79747929)\n",
      "L= 6.264\n",
      "z(T)=[ 97.71   -1.01   32.57  -15.037]\n",
      "iteration:4000\n",
      "(v_0[m/s], phi[deg]) = (35.73396988, 23.79747929)\n",
      "L= 4.37\n",
      "z(T)=[ 98.087  -0.843  32.696 -14.981]\n",
      "iteration:5000\n",
      "(v_0[m/s], phi[deg]) = (35.84876329, 23.79747929)\n",
      "L= 3.049\n",
      "z(T)=[ 98.402  -0.705  32.801 -14.935]\n",
      "iteration:6000\n",
      "(v_0[m/s], phi[deg]) = (35.94464525, 23.79747929)\n",
      "L= 2.127\n",
      "z(T)=[ 98.666  -0.588  32.889 -14.896]\n",
      "iteration:7000\n",
      "(v_0[m/s], phi[deg]) = (36.0247313, 23.79747929)\n",
      "L= 1.484\n",
      "z(T)=[ 98.885  -0.492  32.962 -14.864]\n",
      "iteration:8000\n",
      "(v_0[m/s], phi[deg]) = (36.09162371, 23.79747929)\n",
      "L= 1.035\n",
      "z(T)=[ 99.069  -0.411  33.023 -14.837]\n",
      "iteration:9000\n",
      "(v_0[m/s], phi[deg]) = (36.14749604, 23.79747929)\n",
      "L= 0.7222\n",
      "z(T)=[ 99.222  -0.343  33.074 -14.814]\n",
      "iteration:10000\n",
      "(v_0[m/s], phi[deg]) = (36.19416377, 23.79747929)\n",
      "L= 0.5038\n",
      "z(T)=[ 99.351  -0.286  33.117 -14.795]\n"
     ]
    }
   ],
   "source": [
    "for i in range(11, 10001):\n",
    "    L_val,z_T_val, zt_val = forward()\n",
    "    c_val, *other = backward(z_T_val)\n",
    "    if i % 1000 ==0:\n",
    "        L_val,z_T_val, zt_val = forward(ts=ts)\n",
    "        print('iteration:{}'.format(i))\n",
    "        print('(v_0[m/s], phi[deg]) = ({:.10}, {:.10})'.format(c_val[0], 360*c_val[1]/(2*np.pi)))\n",
    "        print('L= {:.4}'.format(L_val))\n",
    "        print('z(T)={}'.format(z_T_val))\n",
    "\n"
   ]
  },
  {
   "cell_type": "markdown",
   "metadata": {},
   "source": [
    "# 結果確認\n",
    "\n",
    "最終的に得られた速度，角度など"
   ]
  },
  {
   "cell_type": "code",
   "execution_count": 124,
   "metadata": {},
   "outputs": [
    {
     "name": "stdout",
     "output_type": "stream",
     "text": [
      "(v_0[m/s], phi[deg]) = (36.19416377, 23.79747929)\n",
      "L= 0.5038\n",
      "z(T)=[ 99.351  -0.286  33.117 -14.795]\n"
     ]
    }
   ],
   "source": [
    "print('(v_0[m/s], phi[deg]) = ({:.10}, {:.10})'.format(c_val[0], 360*c_val[1]/(2*np.pi)))\n",
    "print('L= {:.4}'.format(L_val))\n",
    "print('z(T)={}'.format(z_T_val))"
   ]
  },
  {
   "cell_type": "markdown",
   "metadata": {},
   "source": [
    "解析解との比較"
   ]
  },
  {
   "cell_type": "code",
   "execution_count": 122,
   "metadata": {},
   "outputs": [
    {
     "name": "stdout",
     "output_type": "stream",
     "text": [
      "v_0_ana = 36.430771486630796\n",
      "phi_0_ana = 0.4153443673[rad]=23.79747929[deg]\n",
      "error = -0.23660771,  -2.220446e-16\n"
     ]
    }
   ],
   "source": [
    "v0_ana = np.sqrt( (100.0/3.0)**2 + (9.8*t_end/2.0)**2 ) #analytical solution of v_0\n",
    "print('v_0_ana = {}'.format(v0_ana))\n",
    "phi_ana = np.arctan2(9.8*3/2, 100.0/3)\n",
    "print('phi_0_ana = {:.10}[rad]={:.10}[deg]'.format(phi_ana, 360*phi_ana/(2*np.pi)))\n",
    "\n",
    "#error\n",
    "er_v_0 = c_val[0]-v0_ana\n",
    "er_phi = c_val[1]-phi_ana\n",
    "\n",
    "print('error = {:.8},  {:.8}'.format(er_v_0,er_phi))"
   ]
  },
  {
   "cell_type": "code",
   "execution_count": 123,
   "metadata": {},
   "outputs": [
    {
     "data": {
      "text/plain": [
       "Text(0, 0.5, 'y')"
      ]
     },
     "execution_count": 123,
     "metadata": {},
     "output_type": "execute_result"
    },
    {
     "data": {
      "image/png": "[encoded data removed]",
      "text/plain": [
       "<Figure size 432x288 with 1 Axes>"
      ]
     },
     "metadata": {
      "needs_background": "light"
     },
     "output_type": "display_data"
    }
   ],
   "source": [
    "L_val,z_T_val, zt_val = forward(ts=ts)\n",
    "\n",
    "plt.plot(zt_val[0,:],zt_val[1,:])\n",
    "plt.xlabel('x')\n",
    "plt.ylabel('y')"
   ]
  },
  {
   "cell_type": "code",
   "execution_count": null,
   "metadata": {},
   "outputs": [],
   "source": []
  }
 ],
 "metadata": {
  "kernelspec": {
   "display_name": "Python 3",
   "language": "python",
   "name": "python3"
  },
  "language_info": {
   "codemirror_mode": {
    "name": "ipython",
    "version": 3
   },
   "file_extension": ".py",
   "mimetype": "text/x-python",
   "name": "python",
   "nbconvert_exporter": "python",
   "pygments_lexer": "ipython3",
   "version": "3.6.8"
  }
 },
 "nbformat": 4,
 "nbformat_minor": 2
}
