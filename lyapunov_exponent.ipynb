{
 "cells": [
  {
   "cell_type": "markdown",
   "metadata": {},
   "source": [
    "# Calculating the largest Lyapunov Exponent using TensorFlow"
   ]
  },
  {
   "cell_type": "markdown",
   "metadata": {},
   "source": [
    "* notice: too slow for practical use\n",
    "* Tensorflow version: 1.14 \n",
    "\n",
    "import"
   ]
  },
  {
   "cell_type": "code",
   "execution_count": 1,
   "metadata": {},
   "outputs": [],
   "source": [
    "import sys\n",
    "import numpy as np\n",
    "import matplotlib.pyplot as plt\n",
    "import tensorflow as tf\n",
    "import time\n",
    "\n",
    "from scipy.integrate import solve_ivp"
   ]
  },
  {
   "cell_type": "markdown",
   "metadata": {},
   "source": [
    "Lorenz 方程式，Jacobian の定義"
   ]
  },
  {
   "cell_type": "code",
   "execution_count": 2,
   "metadata": {},
   "outputs": [],
   "source": [
    "class Lorenz(object):\n",
    "    \"\"\" defines Lorenz equation.\n",
    "        dX/dt=f(X),\n",
    "    where X = (x,y,z) is a three dimensional vector.\n",
    "     arg:\n",
    "        sigma,beta,rho : basic parameters of Lorenz equation\n",
    "        x : A tensor of three dimensional state vector.\n",
    "     returns:\n",
    "      dX_dt : tensor of f(X)\n",
    "    \"\"\"\n",
    "    def __init__(self, sigma=10., beta=8 / 3., rho=28., **kwargs):\n",
    "        super().__init__(**kwargs)\n",
    "\n",
    "        self.sigma = sigma\n",
    "        self.beta = beta\n",
    "        self.rho = rho\n",
    "\n",
    "    def __call__(self, t, x):\n",
    "        \"\"\" x here is [x, y, z] \"\"\"\n",
    "        # x = tf.cast(x, tf.float64)\n",
    "\n",
    "        dx_dt = self.sigma * (x[1] - x[0])\n",
    "        dy_dt = x[0] * (self.rho - x[2]) - x[1]\n",
    "        dz_dt = x[0] * x[1] - self.beta * x[2]\n",
    "\n",
    "        dX_dt = tf.stack([dx_dt, dy_dt, dz_dt])\n",
    "        return dX_dt"
   ]
  },
  {
   "cell_type": "code",
   "execution_count": 3,
   "metadata": {},
   "outputs": [],
   "source": [
    "def jacobian(t, f, x):\n",
    "    \"\"\" return jacobian matrix of f at x\"\"\"\n",
    "    n = x.shape[-1].value\n",
    "    fx = f(t, x)\n",
    "    if x.shape[-1].value != fx.shape[-1].value:\n",
    "        print('For calculating Jacobian matrix',\n",
    "              'dimensions of f(x) and x must be the same')\n",
    "        return\n",
    "\n",
    "    return tf.concat([tf.gradients(fx[i], x) for i in range(0, n)], 0)"
   ]
  },
  {
   "cell_type": "markdown",
   "metadata": {},
   "source": [
    "元の常微分方程式とその軌道の周りに線形化した方程式 を同時に解くためのグラフ"
   ]
  },
  {
   "cell_type": "code",
   "execution_count": 4,
   "metadata": {},
   "outputs": [],
   "source": [
    "\n",
    "def f_with_df(x_and_d, f, dim=3):\n",
    "  \"\"\"\n",
    "    combine f and its differentiation Df (tensor)\n",
    "     args:\n",
    "        x_and_d: tensor of x and d. 2*dim dimension\n",
    "        f: rhs of ode. f(x) have 3dim\n",
    "        dim: dimension of x\n",
    "  \"\"\"\n",
    "  x = x_and_d[0:dim]\n",
    "  d = x_and_d[dim:2*dim]\n",
    "  Df = jacobian(None, f, x)\n",
    "  fx = f(None, x)\n",
    "  Dfx_d = tf.linalg.matvec(Df, d)\n",
    "  return tf.concat([fx, Dfx_d], 0)"
   ]
  },
  {
   "cell_type": "markdown",
   "metadata": {},
   "source": [
    "与えられた区間で上記を使って2*d 次元の方程式を解く関数 (dはODEの次元)"
   ]
  },
  {
   "cell_type": "code",
   "execution_count": 5,
   "metadata": {},
   "outputs": [],
   "source": [
    "def solve_f_with_df(sess, fx_and_df_x_d, x0_and_d0, ts):\n",
    "    \"\"\" numerically solve ode defined by f\n",
    "        and its linearized equation dot_d =  Df_x d\n",
    "    \"\"\"\n",
    "    # wrapper function\n",
    "    def fdf_tf(t, xd):\n",
    "      return sess.run(fx_and_df_x_d, feed_dict={x_and_d: xd})\n",
    "\n",
    "    sol = solve_ivp(fun=fdf_tf,\n",
    "                    t_span=[ts[0], ts[-1]], y0=x0_and_d0, t_eval=ts)\n",
    "    return sol['y'], sol['t']\n"
   ]
  },
  {
   "cell_type": "markdown",
   "metadata": {},
   "source": [
    "delta を正規化する関数"
   ]
  },
  {
   "cell_type": "code",
   "execution_count": 6,
   "metadata": {},
   "outputs": [],
   "source": [
    "def normalize_vec(d):\n",
    "    norm = np.sqrt(np.sum(np.square(d)))\n",
    "    newd= d/norm\n",
    "    return norm,newd"
   ]
  },
  {
   "cell_type": "markdown",
   "metadata": {},
   "source": [
    "## 変数の準備"
   ]
  },
  {
   "cell_type": "code",
   "execution_count": 7,
   "metadata": {},
   "outputs": [],
   "source": [
    "tf.reset_default_graph()\n",
    "dim = 3\n",
    "\n",
    "# defining  parameters\n",
    "rho = tf.Variable(28.0, dtype=tf.float64,\n",
    "                    name='rho')\n",
    "sigma = tf.Variable(10.0, dtype=tf.float64,\n",
    "                      name='sigma')\n",
    "beta = tf.Variable(8.0/3.0, dtype=tf.float64,\n",
    "                     name='sigma')\n",
    "\n",
    "f_lorenz = Lorenz(sigma=sigma, rho=rho, beta=beta)\n",
    "\n",
    "# state variable x and its perturbation delta\n",
    "x_and_d = tf.placeholder(dtype=tf.float64, shape=(dim*2), name='x_and_d')\n",
    "# rhs f(x) and  Df(x)* d\n",
    "f_df_x = f_with_df(x_and_d, f_lorenz)\n",
    "\n",
    "# initial value\n",
    "x0_d0 = np.array([-3.73, -5.76, 20.14, 0.5, 0.2, 0.2])\n"
   ]
  },
  {
   "cell_type": "markdown",
   "metadata": {},
   "source": [
    "時間の設定"
   ]
  },
  {
   "cell_type": "code",
   "execution_count": 8,
   "metadata": {},
   "outputs": [],
   "source": [
    "# integrating time\n",
    "dt = 0.02\n",
    "tstart = 0.0\n",
    "tend =2000.0\n",
    "ts = np.arange(tstart, tend+dt, dt)\n",
    "len_t_sec = 10\n",
    "nstep_t_sec = int( (len_t_sec/dt)+1)\n",
    "\n",
    "t_sec = np.arange(tstart, tend, len_t_sec)"
   ]
  },
  {
   "cell_type": "code",
   "execution_count": 9,
   "metadata": {},
   "outputs": [],
   "source": [
    "sess = tf.Session()\n",
    "sess.run(tf.initializers.global_variables())"
   ]
  },
  {
   "cell_type": "markdown",
   "metadata": {},
   "source": [
    "区間ごとに積分実行，xの軌道を保存，deltaの伸びを記録して正規化，"
   ]
  },
  {
   "cell_type": "code",
   "execution_count": 10,
   "metadata": {},
   "outputs": [],
   "source": [
    "x_d = x0_d0.copy()  # intial condition\n",
    "times = []\n",
    "xs = []\n",
    "norm_d_i = []\n",
    "\n",
    "for i, t_i0 in enumerate(t_sec):\n",
    "  ts_sec = t_i0 + dt* np.arange(0, nstep_t_sec)\n",
    "  x_d_sec, _ = solve_f_with_df(sess, f_df_x, x_d, ts_sec)\n",
    "\n",
    "  times.extend(ts_sec[0:-1])\n",
    "  xs.extend(x_d_sec[0:dim, 0:-1].transpose())  # record x\n",
    "  # normalize d and record its stretch\n",
    "  norm, newd = normalize_vec(x_d_sec[dim:2*dim, -1])\n",
    "  norm_d_i.append(norm)\n",
    "  # update x and d\n",
    "  x_d[0:dim] = x_d_sec[0:dim, -1]\n",
    "  x_d[dim:2*dim] = newd"
   ]
  },
  {
   "cell_type": "markdown",
   "metadata": {},
   "source": [
    "時刻ごとのLyapunov指数の推定値の計算"
   ]
  },
  {
   "cell_type": "code",
   "execution_count": 11,
   "metadata": {},
   "outputs": [
    {
     "data": {
      "image/png": "[encoded data removed]",
      "text/plain": [
       "<Figure size 432x288 with 1 Axes>"
      ]
     },
     "metadata": {
      "needs_background": "light"
     },
     "output_type": "display_data"
    },
    {
     "name": "stdout",
     "output_type": "stream",
     "text": [
      "estimation of the largest Lyapunov exponent: 0.9015374472045383\n"
     ]
    }
   ],
   "source": [
    "# cast to numpy array\n",
    "xs = np.array(xs)\n",
    "times = np.array(times)\n",
    "norm_d_i = np.array(norm_d_i)\n",
    "\n",
    "lognorm_i = np.log(norm_d_i)\n",
    "t_sec_l = t_sec + len_t_sec\n",
    "\n",
    "lyap_t = np.cumsum(lognorm_i) / (t_sec_l)\n",
    "plt.plot(t_sec_l, lyap_t)\n",
    "plt.pause(0.001)\n",
    "print('estimation of the largest Lyapunov exponent: {}'.format(lyap_t[-1]))\n",
    "sess.close()\n"
   ]
  },
  {
   "cell_type": "code",
   "execution_count": null,
   "metadata": {},
   "outputs": [],
   "source": []
  }
 ],
 "metadata": {
  "kernelspec": {
   "display_name": "Python 3",
   "language": "python",
   "name": "python3"
  },
  "language_info": {
   "codemirror_mode": {
    "name": "ipython",
    "version": 3
   },
   "file_extension": ".py",
   "mimetype": "text/x-python",
   "name": "python",
   "nbconvert_exporter": "python",
   "pygments_lexer": "ipython3",
   "version": "3.7.3"
  }
 },
 "nbformat": 4,
 "nbformat_minor": 2
}
