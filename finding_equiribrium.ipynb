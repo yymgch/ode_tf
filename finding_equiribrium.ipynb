{
 "cells": [
  {
   "cell_type": "code",
   "execution_count": 1,
   "metadata": {},
   "outputs": [],
   "source": [
    "import sys\n",
    "import numpy as np\n",
    "import matplotlib.pyplot as plt\n",
    "import tensorflow as tf\n",
    "import time\n",
    "#% matplotlib inline\n",
    "from mpl_toolkits.mplot3d import Axes3D  # noqa: F401 unused import\n",
    "\n",
    "from scipy.integrate import solve_ivp\n",
    "\n",
    "class Lorenz(object):\n",
    "    def __init__(self, sigma=10., beta=8 / 3., rho=28., **kwargs):\n",
    "        super().__init__(**kwargs)\n",
    "\n",
    "        self.sigma = sigma\n",
    "        self.beta = beta\n",
    "        self.rho = rho\n",
    "\n",
    "    def __call__(self, t, x):\n",
    "        \"\"\" x here is [x, y, z] \"\"\"\n",
    "        # x = tf.cast(x, tf.float64)\n",
    "\n",
    "        dx_dt = self.sigma * (x[1] - x[0])\n",
    "        dy_dt = x[0] * (self.rho - x[2]) - x[1]\n",
    "        dz_dt = x[0] * x[1] - self.beta * x[2]\n",
    "\n",
    "        dX_dt = tf.stack([dx_dt, dy_dt, dz_dt])\n",
    "        return dX_dt"
   ]
  },
  {
   "cell_type": "markdown",
   "metadata": {},
   "source": [
    "Jacobian定義"
   ]
  },
  {
   "cell_type": "code",
   "execution_count": 2,
   "metadata": {},
   "outputs": [],
   "source": [
    "def jacobian(t, f, x):\n",
    "    \"\"\" return jacobian matrix of f at x\"\"\"\n",
    "    n = x.shape[-1].value\n",
    "    fx = f(t, x)\n",
    "    if x.shape[-1].value != fx.shape[-1].value:\n",
    "        print('For calculating Jacobian matrix',\n",
    "              'dimensions of f(x) and x must be the same')\n",
    "        return\n",
    "\n",
    "    return tf.concat([tf.gradients(fx[i], x) for i in range(0, n)], 0)"
   ]
  },
  {
   "cell_type": "markdown",
   "metadata": {},
   "source": [
    "# 各変数、パラメータ、関数の定義"
   ]
  },
  {
   "cell_type": "code",
   "execution_count": 3,
   "metadata": {},
   "outputs": [
    {
     "name": "stdout",
     "output_type": "stream",
     "text": [
      "WARNING:tensorflow:From /Users/yyama/anaconda3/lib/python3.6/site-packages/tensorflow/python/framework/op_def_library.py:263: colocate_with (from tensorflow.python.framework.ops) is deprecated and will be removed in a future version.\n",
      "Instructions for updating:\n",
      "Colocations handled automatically by placer.\n"
     ]
    }
   ],
   "source": [
    "rho = tf.Variable(28.0, dtype=tf.float64,\n",
    "                             name='rho')\n",
    "sigma = tf.Variable(10.0, dtype=tf.float64,\n",
    "                     name='sigma')\n",
    "beta = tf.Variable(8.0/3.0, dtype=tf.float64,\n",
    "                                    name='sigma')\n",
    "\n",
    "f_lorenz = Lorenz(sigma=sigma, rho=rho, beta=beta)\n",
    "\n",
    "# define a state variable x as Variable\n",
    "x = tf.Variable([1,1,10], dtype=tf.float64, name='x') \n",
    "fx= f_lorenz(None,x)\n",
    "\n",
    "# op for initialize x from outside of TF\n",
    "x_init=  tf.placeholder(dtype=tf.float64, shape=(3), name='x_init')\n",
    "init_x_op = tf.assign(x,x_init)"
   ]
  }
 ],
 "metadata": {
  "kernelspec": {
   "display_name": "Python 3",
   "language": "python",
   "name": "python3"
  },
  "language_info": {
   "codemirror_mode": {
    "name": "ipython",
    "version": 3
   },
   "file_extension": ".py",
   "mimetype": "text/x-python",
   "name": "python",
   "nbconvert_exporter": "python",
   "pygments_lexer": "ipython3",
   "version": "3.6.8"
  }
 },
 "nbformat": 4,
 "nbformat_minor": 2
}
