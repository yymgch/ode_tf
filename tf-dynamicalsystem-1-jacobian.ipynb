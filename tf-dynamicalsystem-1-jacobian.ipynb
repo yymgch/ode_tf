{
 "cells": [
  {
   "cell_type": "markdown",
   "metadata": {},
   "source": [
    "# Tensorflowを使ったJacobianの計算と平衡点の安定性解析 "
   ]
  },
  {
   "cell_type": "code",
   "execution_count": 2,
   "metadata": {},
   "outputs": [],
   "source": [
    "import numpy as np\n",
    "import matplotlib.pyplot as plt\n",
    "from mpl_toolkits.mplot3d import Axes3D  # noqa: F401 unused import\n",
    "import time \n",
    "\n",
    "import tensorflow as tf"
   ]
  },
  {
   "cell_type": "markdown",
   "metadata": {},
   "source": [
    "Lorenz方程式"
   ]
  },
  {
   "cell_type": "code",
   "execution_count": 3,
   "metadata": {},
   "outputs": [],
   "source": [
    "\n",
    "class Lorenz(object):\n",
    "    \"\"\" defines Lorenz equation.\n",
    "        dX/dt=f(X),\n",
    "    where X = (x,y,z) is a three dimensional vector.\n",
    "     arg:\n",
    "        sigma,beta,rho : basic parameters of Lorenz equation\n",
    "        x : A tensor of three dimensional state vector.\n",
    "     returns:\n",
    "      dX_dt : tensor of f(X)\n",
    "    \"\"\"\n",
    "    def __init__(self, sigma=10., beta=8 / 3., rho=28., **kwargs):\n",
    "        super().__init__(**kwargs)\n",
    "\n",
    "        self.sigma = sigma\n",
    "        self.beta = beta\n",
    "        self.rho = rho\n",
    "\n",
    "    def __call__(self, t, x):\n",
    "        \"\"\" x here is [x, y, z] \"\"\"\n",
    "        # x = tf.cast(x, tf.float64)\n",
    "\n",
    "        dx_dt = self.sigma * (x[1] - x[0])\n",
    "        dy_dt = x[0] * (self.rho - x[2]) - x[1]\n",
    "        dz_dt = x[0] * x[1] - self.beta * x[2]\n",
    "\n",
    "        dX_dt = tf.stack([dx_dt, dy_dt, dz_dt])\n",
    "        return dX_dt"
   ]
  },
  {
   "cell_type": "markdown",
   "metadata": {},
   "source": [
    "# jacobian"
   ]
  },
  {
   "cell_type": "code",
   "execution_count": 4,
   "metadata": {},
   "outputs": [],
   "source": [
    "def jacobian(t, f, x):\n",
    "    \"\"\" return jacobian matrix of a given function f at x\"\"\"\n",
    "    n = x.shape[-1].value\n",
    "    fx = f(t, x)\n",
    "    if x.shape[-1].value != fx.shape[-1].value:\n",
    "        print('For calculating Jacobian matrix',\n",
    "              'dimensions of f(x) and x must be the same')\n",
    "        return\n",
    "\n",
    "    return tf.concat([tf.gradients(fx[i], x) for i in range(0, n)], 0)\n"
   ]
  },
  {
   "cell_type": "markdown",
   "metadata": {},
   "source": [
    "# ヤコビアンを計算するグラフの作成"
   ]
  },
  {
   "cell_type": "code",
   "execution_count": 5,
   "metadata": {},
   "outputs": [],
   "source": [
    "x = tf.placeholder(dtype=tf.float64, shape=(3), name='x')\n",
    "# lorenz equation\n",
    "f_lorenz = Lorenz()\n",
    "# operator for getting r.h.s. of ode\n",
    "fx = f_lorenz(None, x) \n",
    "\n",
    "Df = jacobian(None,f_lorenz,x)"
   ]
  },
  {
   "cell_type": "code",
   "execution_count": 6,
   "metadata": {},
   "outputs": [],
   "source": [
    "\n",
    "x0 = np.array([1, 2, 3], dtype=np.float64)   # initial value\n"
   ]
  },
  {
   "cell_type": "code",
   "execution_count": 7,
   "metadata": {},
   "outputs": [
    {
     "data": {
      "text/plain": [
       "array([[-10.        ,  10.        ,   0.        ],\n",
       "       [ 25.        ,  -1.        ,  -1.        ],\n",
       "       [  2.        ,   1.        ,  -2.66666667]])"
      ]
     },
     "execution_count": 7,
     "metadata": {},
     "output_type": "execute_result"
    }
   ],
   "source": [
    "sess =  tf.Session()\n",
    "sess.run(tf.initializers.global_variables())\n",
    "\n",
    "sess.run(Df, feed_dict={x:x0}) # Jacobian at (1,2,3)\n"
   ]
  },
  {
   "cell_type": "markdown",
   "metadata": {},
   "source": [
    "# 平衡点のヤコビアン固有値計算"
   ]
  },
  {
   "cell_type": "code",
   "execution_count": 8,
   "metadata": {},
   "outputs": [],
   "source": [
    "df0 = sess.run(Df, feed_dict={x:[0,0,0]}) #jacobian at origin\n",
    "\n",
    "evals,evec = np.linalg.eig(df0) #evals: eigenvalues, evec: eigenvectors\n"
   ]
  },
  {
   "cell_type": "code",
   "execution_count": 9,
   "metadata": {},
   "outputs": [
    {
     "name": "stdout",
     "output_type": "stream",
     "text": [
      "[-22.82772345  11.82772345  -2.66666667]\n"
     ]
    }
   ],
   "source": [
    "print(evals)\n"
   ]
  },
  {
   "cell_type": "code",
   "execution_count": 10,
   "metadata": {},
   "outputs": [
    {
     "name": "stdout",
     "output_type": "stream",
     "text": [
      "[-22.82772345  -2.66666667  11.82772345]\n"
     ]
    }
   ],
   "source": [
    "re_evals = np.sort(evals.real)\n",
    "print(re_evals)\n"
   ]
  },
  {
   "cell_type": "code",
   "execution_count": 11,
   "metadata": {},
   "outputs": [],
   "source": [
    "sess.close()\n",
    "tf.reset_default_graph()"
   ]
  },
  {
   "cell_type": "markdown",
   "metadata": {},
   "source": [
    "# 分岐解析\n",
    "\n",
    "分岐パラメータrhoをplaceholder型で作成してf_lorenzを作成"
   ]
  },
  {
   "cell_type": "code",
   "execution_count": 12,
   "metadata": {},
   "outputs": [],
   "source": [
    "x = tf.placeholder(dtype=tf.float64, shape=(3), name='x')\n",
    "\n",
    "#bifurcation parameter\n",
    "rho = tf.placeholder(dtype=tf.float64,\n",
    "                       shape=(), name='rho')\n",
    "\n",
    "f_lorenz = Lorenz(rho=rho)\n",
    "fx = f_lorenz(None, x) \n",
    "Df = jacobian(None,f_lorenz,x)"
   ]
  },
  {
   "cell_type": "markdown",
   "metadata": {},
   "source": [
    "rhoを0から2まで変化させて固有値の実部の変化をプロット"
   ]
  },
  {
   "cell_type": "code",
   "execution_count": 13,
   "metadata": {},
   "outputs": [
    {
     "name": "stdout",
     "output_type": "stream",
     "text": [
      "rho: 0 lambda: -1\n",
      "rho: 0.02 lambda: -0.9778\n",
      "rho: 0.04 lambda: -0.9558\n",
      "rho: 0.06 lambda: -0.9338\n",
      "rho: 0.08 lambda: -0.912\n",
      "rho: 0.1 lambda: -0.8902\n",
      "rho: 0.12 lambda: -0.8686\n",
      "rho: 0.14 lambda: -0.847\n",
      "rho: 0.16 lambda: -0.8256\n",
      "rho: 0.18 lambda: -0.8043\n",
      "rho: 0.2 lambda: -0.783\n",
      "rho: 0.22 lambda: -0.7619\n",
      "rho: 0.24 lambda: -0.7408\n",
      "rho: 0.26 lambda: -0.7198\n",
      "rho: 0.28 lambda: -0.699\n",
      "rho: 0.3 lambda: -0.6782\n",
      "rho: 0.32 lambda: -0.6575\n",
      "rho: 0.34 lambda: -0.6369\n",
      "rho: 0.36 lambda: -0.6164\n",
      "rho: 0.38 lambda: -0.5959\n",
      "rho: 0.4 lambda: -0.5756\n",
      "rho: 0.42 lambda: -0.5553\n",
      "rho: 0.44 lambda: -0.5351\n",
      "rho: 0.46 lambda: -0.515\n",
      "rho: 0.48 lambda: -0.495\n",
      "rho: 0.5 lambda: -0.4751\n",
      "rho: 0.52 lambda: -0.4552\n",
      "rho: 0.54 lambda: -0.4354\n",
      "rho: 0.56 lambda: -0.4157\n",
      "rho: 0.58 lambda: -0.3961\n",
      "rho: 0.6 lambda: -0.3765\n",
      "rho: 0.62 lambda: -0.357\n",
      "rho: 0.64 lambda: -0.3376\n",
      "rho: 0.66 lambda: -0.3183\n",
      "rho: 0.68 lambda: -0.299\n",
      "rho: 0.7 lambda: -0.2798\n",
      "rho: 0.72 lambda: -0.2607\n",
      "rho: 0.74 lambda: -0.2417\n",
      "rho: 0.76 lambda: -0.2227\n",
      "rho: 0.78 lambda: -0.2038\n",
      "rho: 0.8 lambda: -0.1849\n",
      "rho: 0.82 lambda: -0.1661\n",
      "rho: 0.84 lambda: -0.1474\n",
      "rho: 0.86 lambda: -0.1288\n",
      "rho: 0.88 lambda: -0.1102\n",
      "rho: 0.9 lambda: -0.09167\n",
      "rho: 0.92 lambda: -0.07321\n",
      "rho: 0.94 lambda: -0.05482\n",
      "rho: 0.96 lambda: -0.03648\n",
      "rho: 0.98 lambda: -0.01821\n",
      "rho: 1 lambda: 0\n",
      "rho: 1.02 lambda: 0.01815\n",
      "rho: 1.04 lambda: 0.03624\n",
      "rho: 1.06 lambda: 0.05428\n",
      "rho: 1.08 lambda: 0.07225\n",
      "rho: 1.1 lambda: 0.09017\n",
      "rho: 1.12 lambda: 0.108\n",
      "rho: 1.14 lambda: 0.1258\n",
      "rho: 1.16 lambda: 0.1436\n",
      "rho: 1.18 lambda: 0.1613\n",
      "rho: 1.2 lambda: 0.1789\n",
      "rho: 1.22 lambda: 0.1965\n",
      "rho: 1.24 lambda: 0.214\n",
      "rho: 1.26 lambda: 0.2315\n",
      "rho: 1.28 lambda: 0.2489\n",
      "rho: 1.3 lambda: 0.2663\n",
      "rho: 1.32 lambda: 0.2836\n",
      "rho: 1.34 lambda: 0.3009\n",
      "rho: 1.36 lambda: 0.3181\n",
      "rho: 1.38 lambda: 0.3352\n",
      "rho: 1.4 lambda: 0.3523\n",
      "rho: 1.42 lambda: 0.3694\n",
      "rho: 1.44 lambda: 0.3864\n",
      "rho: 1.46 lambda: 0.4034\n",
      "rho: 1.48 lambda: 0.4203\n",
      "rho: 1.5 lambda: 0.4372\n",
      "rho: 1.52 lambda: 0.454\n",
      "rho: 1.54 lambda: 0.4708\n",
      "rho: 1.56 lambda: 0.4875\n",
      "rho: 1.58 lambda: 0.5042\n",
      "rho: 1.6 lambda: 0.5208\n",
      "rho: 1.62 lambda: 0.5374\n",
      "rho: 1.64 lambda: 0.5539\n",
      "rho: 1.66 lambda: 0.5704\n",
      "rho: 1.68 lambda: 0.5869\n",
      "rho: 1.7 lambda: 0.6033\n",
      "rho: 1.72 lambda: 0.6196\n",
      "rho: 1.74 lambda: 0.636\n",
      "rho: 1.76 lambda: 0.6522\n",
      "rho: 1.78 lambda: 0.6685\n",
      "rho: 1.8 lambda: 0.6847\n",
      "rho: 1.82 lambda: 0.7008\n",
      "rho: 1.84 lambda: 0.7169\n",
      "rho: 1.86 lambda: 0.733\n",
      "rho: 1.88 lambda: 0.749\n",
      "rho: 1.9 lambda: 0.765\n",
      "rho: 1.92 lambda: 0.7809\n",
      "rho: 1.94 lambda: 0.7968\n",
      "rho: 1.96 lambda: 0.8127\n",
      "rho: 1.98 lambda: 0.8285\n",
      "rho: 2 lambda: 0.8443\n"
     ]
    }
   ],
   "source": [
    "sess=tf.Session()\n",
    "sess.run(tf.initializers.global_variables())\n",
    "\n",
    "rmin=0\n",
    "rstep=0.02\n",
    "rmax=2\n",
    "li_rs=[]\n",
    "li_eigvals=[]\n",
    "\n",
    "for r in np.arange(rmin,rmax+rstep,rstep):\n",
    "    df = sess.run(Df, feed_dict={x:(0,0,0), rho:r})\n",
    "    eigvals,eigvecs = np.linalg.eig(df)\n",
    "    print(\"rho: {:.3g} lambda: {:.4g}\".format(r,eigvals.real.max()))\n",
    "    li_rs.append(r)\n",
    "    li_eigvals.append(eigvals)"
   ]
  },
  {
   "cell_type": "code",
   "execution_count": 14,
   "metadata": {},
   "outputs": [
    {
     "data": {
      "text/plain": [
       "Text(0, 0.5, 'Re[$\\\\lambda_i$]')"
      ]
     },
     "execution_count": 14,
     "metadata": {},
     "output_type": "execute_result"
    },
    {
     "data": {
      "image/png": "[encoded data removed]",
      "text/plain": [
       "<Figure size 432x288 with 1 Axes>"
      ]
     },
     "metadata": {
      "needs_background": "light"
     },
     "output_type": "display_data"
    }
   ],
   "source": [
    "fig=plt.figure()\n",
    "ax=fig.add_subplot(1,1,1)\n",
    "ax.plot(li_rs,li_eigvals)\n",
    "ax.grid()\n",
    "ax.set_xlabel(r'$\\rho$')\n",
    "ax.set_ylabel(r'Re[$\\lambda_i$]')"
   ]
  },
  {
   "cell_type": "code",
   "execution_count": null,
   "metadata": {},
   "outputs": [],
   "source": []
  }
 ],
 "metadata": {
  "kernelspec": {
   "display_name": "Python 3",
   "language": "python",
   "name": "python3"
  },
  "language_info": {
   "codemirror_mode": {
    "name": "ipython",
    "version": 3
   },
   "file_extension": ".py",
   "mimetype": "text/x-python",
   "name": "python",
   "nbconvert_exporter": "python",
   "pygments_lexer": "ipython3",
   "version": "3.7.3"
  }
 },
 "nbformat": 4,
 "nbformat_minor": 2
}
